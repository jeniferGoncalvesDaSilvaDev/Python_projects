{
  "nbformat": 4,
  "nbformat_minor": 0,
  "metadata": {
    "colab": {
      "provenance": [],
      "authorship_tag": "ABX9TyMtL/whoVikEZkuVKUV6Iia",
      "include_colab_link": true
    },
    "kernelspec": {
      "name": "python3",
      "display_name": "Python 3"
    },
    "language_info": {
      "name": "python"
    }
  },
  "cells": [
    {
      "cell_type": "markdown",
      "metadata": {
        "id": "view-in-github",
        "colab_type": "text"
      },
      "source": [
        "<a href=\"https://colab.research.google.com/github/jeniferGoncalvesDaSilvaDev/Python_projects/blob/main/python-adm%20-finance.ipynb\" target=\"_parent\"><img src=\"https://colab.research.google.com/assets/colab-badge.svg\" alt=\"Open In Colab\"/></a>"
      ]
    },
    {
      "cell_type": "code",
      "execution_count": 1,
      "metadata": {
        "colab": {
          "base_uri": "https://localhost:8080/"
        },
        "id": "KsUNoQg2NIGk",
        "outputId": "a815a9b3-fd89-4bc8-9c64-66746aeb3684"
      },
      "outputs": [
        {
          "output_type": "stream",
          "name": "stdout",
          "text": [
            "Para o preço de 10  é necessário ter 234  vendas\n",
            "Para o preço de 15  é necessário ter 156  vendas\n",
            "Para o preço de 20  é necessário ter 117  vendas\n"
          ]
        }
      ],
      "source": [
        "# Vamos criar um comando de repetição para um setor administrativo/financeiro que deseja calcular quantas vendas de um produto são necessárias para atingir um lucro de R$ 2000\n",
        "for i in range (10, 21, 5):\n",
        "    preco=i\n",
        "    vendas=1\n",
        "    receita=vendas*preco\n",
        "    custo_variavel=(0.1*preco)*vendas\n",
        "    custo_fixo=100\n",
        "    custo_total=custo_variavel+custo_fixo\n",
        "    lucro=receita-custo_total\n",
        "    if lucro<2000:\n",
        "        while lucro<2000:\n",
        "            vendas=vendas+1\n",
        "            receita=vendas*preco\n",
        "            custo_variavel=(0.1*preco)*vendas\n",
        "            custo_total=custo_variavel+custo_fixo\n",
        "            lucro=receita-custo_total\n",
        "        print('Para o preço de', preco,' é necessário ter', vendas,\n",
        "              ' vendas')\n",
        "    else:\n",
        "        print('Para o preço de', preco,' é necessário ter', vendas,\n",
        "              ' vendas')"
      ]
    }
  ]
}