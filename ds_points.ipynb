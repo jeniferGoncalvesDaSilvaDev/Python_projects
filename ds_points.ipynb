{
  "nbformat": 4,
  "nbformat_minor": 0,
  "metadata": {
    "colab": {
      "provenance": [],
      "mount_file_id": "1dR2OcKRmr3BI6EAbOBwZWxRxVMK2FdSM",
      "authorship_tag": "ABX9TyOg0p7p55KRgpKm4x/HTvAb",
      "include_colab_link": true
    },
    "kernelspec": {
      "name": "python3",
      "display_name": "Python 3"
    },
    "language_info": {
      "name": "python"
    }
  },
  "cells": [
    {
      "cell_type": "markdown",
      "metadata": {
        "id": "view-in-github",
        "colab_type": "text"
      },
      "source": [
        "<a href=\"https://colab.research.google.com/github/jeniferGoncalvesDaSilvaDev/Python_projects/blob/main/ds_points.ipynb\" target=\"_parent\"><img src=\"https://colab.research.google.com/assets/colab-badge.svg\" alt=\"Open In Colab\"/></a>"
      ]
    },
    {
      "cell_type": "code",
      "execution_count": 1,
      "metadata": {
        "id": "8Mk9zBMselxJ"
      },
      "outputs": [],
      "source": [
        "import sqlite3"
      ]
    },
    {
      "cell_type": "code",
      "source": [
        "conexao = sqlite3.connect('/content/drive/MyDrive/ds-points/database.db')"
      ],
      "metadata": {
        "id": "jxg6BMW-ghe8"
      },
      "execution_count": 10,
      "outputs": []
    },
    {
      "cell_type": "code",
      "source": [
        "cursor = conexao.cursor()"
      ],
      "metadata": {
        "id": "jmV-1PDtgtU1"
      },
      "execution_count": 11,
      "outputs": []
    },
    {
      "cell_type": "code",
      "source": [
        "customers= cursor.execute('SELECT * FROM customers')"
      ],
      "metadata": {
        "id": "BoHDkGnGgyZv"
      },
      "execution_count": 13,
      "outputs": []
    },
    {
      "cell_type": "code",
      "source": [
        "print(customers)"
      ],
      "metadata": {
        "colab": {
          "base_uri": "https://localhost:8080/"
        },
        "id": "nkVYUaJEhMzo",
        "outputId": "5fdf0ffb-fddf-4af0-c893-6bcb2a9e4265"
      },
      "execution_count": 14,
      "outputs": [
        {
          "output_type": "stream",
          "name": "stdout",
          "text": [
            "<sqlite3.Cursor object at 0x79aa16f57dc0>\n"
          ]
        }
      ]
    },
    {
      "cell_type": "code",
      "source": [
        "transactions = cursor.execute('SELECT * FROM transactions')\n",
        "print(transactions)"
      ],
      "metadata": {
        "colab": {
          "base_uri": "https://localhost:8080/"
        },
        "id": "9mFg-vWKhbup",
        "outputId": "b804df88-b05c-45d4-b735-3688a2a9c913"
      },
      "execution_count": 16,
      "outputs": [
        {
          "output_type": "stream",
          "name": "stdout",
          "text": [
            "<sqlite3.Cursor object at 0x79aa16f57dc0>\n"
          ]
        }
      ]
    }
  ]
}