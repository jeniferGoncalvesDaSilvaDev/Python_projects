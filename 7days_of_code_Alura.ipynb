{
  "nbformat": 4,
  "nbformat_minor": 0,
  "metadata": {
    "colab": {
      "provenance": [],
      "authorship_tag": "ABX9TyN/MXSOezeBavzYbvsh3JS/",
      "include_colab_link": true
    },
    "kernelspec": {
      "name": "python3",
      "display_name": "Python 3"
    },
    "language_info": {
      "name": "python"
    }
  },
  "cells": [
    {
      "cell_type": "markdown",
      "metadata": {
        "id": "view-in-github",
        "colab_type": "text"
      },
      "source": [
        "<a href=\"https://colab.research.google.com/github/jeniferGoncalvesDaSilvaDev/Python_projects/blob/main/7days_of_code_Alura.ipynb\" target=\"_parent\"><img src=\"https://colab.research.google.com/assets/colab-badge.svg\" alt=\"Open In Colab\"/></a>"
      ]
    },
    {
      "cell_type": "code",
      "execution_count": 171,
      "metadata": {
        "id": "A5-V4vJ19wlA"
      },
      "outputs": [],
      "source": [
        "import pandas as pd"
      ]
    },
    {
      "cell_type": "code",
      "source": [
        "pip install pandas pyarrow"
      ],
      "metadata": {
        "id": "Ndgznes9I35l",
        "outputId": "0c5bbcd6-081a-40b8-91d1-ad19bbaa4cc0",
        "colab": {
          "base_uri": "https://localhost:8080/"
        }
      },
      "execution_count": 172,
      "outputs": [
        {
          "output_type": "stream",
          "name": "stdout",
          "text": [
            "Requirement already satisfied: pandas in /usr/local/lib/python3.10/dist-packages (2.0.3)\n",
            "Requirement already satisfied: pyarrow in /usr/local/lib/python3.10/dist-packages (14.0.2)\n",
            "Requirement already satisfied: python-dateutil>=2.8.2 in /usr/local/lib/python3.10/dist-packages (from pandas) (2.8.2)\n",
            "Requirement already satisfied: pytz>=2020.1 in /usr/local/lib/python3.10/dist-packages (from pandas) (2023.4)\n",
            "Requirement already satisfied: tzdata>=2022.1 in /usr/local/lib/python3.10/dist-packages (from pandas) (2024.1)\n",
            "Requirement already satisfied: numpy>=1.21.0 in /usr/local/lib/python3.10/dist-packages (from pandas) (1.25.2)\n",
            "Requirement already satisfied: six>=1.5 in /usr/local/lib/python3.10/dist-packages (from python-dateutil>=2.8.2->pandas) (1.16.0)\n"
          ]
        }
      ]
    },
    {
      "cell_type": "code",
      "source": [
        "\n",
        "\n",
        "# Caminho para o arquivo .parquet\n",
        "exemplares= '/content/drive/MyDrive/DadosMlTeo/DadosMl/dados_exemplares.parquet'\n",
        "\n",
        "# Lendo o arquivo Parquet\n",
        "df_exemplares = pd.read_parquet(exemplares)\n",
        "\n",
        "# Exibindo as primeiras linhas do DataFrame\n",
        "#df_exemplares.head(6)"
      ],
      "metadata": {
        "id": "OfwlVk19I9Cs"
      },
      "execution_count": 173,
      "outputs": []
    },
    {
      "cell_type": "code",
      "source": [
        "url1 =\"https://raw.githubusercontent.com/FranciscoFoz/7_Days_of_Code_Alura-Python-Pandas/main/Dia_1-Importando_dados/Datasets/dados_emprestimos/emprestimos-20101.csv\"\n",
        "df20101 = pd.read_csv(url1)\n",
        "#df.head(6)"
      ],
      "metadata": {
        "id": "Ttw_R9g69_Ec"
      },
      "execution_count": 174,
      "outputs": []
    },
    {
      "cell_type": "code",
      "source": [
        "url2 = \"https://raw.githubusercontent.com/FranciscoFoz/7_Days_of_Code_Alura-Python-Pandas/main/Dia_1-Importando_dados/Datasets/dados_emprestimos/emprestimos-20102.csv\"\n",
        "df20102 = pd.read_csv(url2)"
      ],
      "metadata": {
        "id": "6fdiur7E_5z1"
      },
      "execution_count": 175,
      "outputs": []
    },
    {
      "cell_type": "code",
      "source": [
        "url3 =\"https://raw.githubusercontent.com/FranciscoFoz/7_Days_of_Code_Alura-Python-Pandas/main/Dia_1-Importando_dados/Datasets/dados_emprestimos/emprestimos-20111.csv\"\n",
        "df20111 = pd.read_csv(url3)"
      ],
      "metadata": {
        "id": "g-0VETSQ_nid"
      },
      "execution_count": 176,
      "outputs": []
    },
    {
      "cell_type": "code",
      "source": [
        "url4 = \"https://raw.githubusercontent.com/FranciscoFoz/7_Days_of_Code_Alura-Python-Pandas/main/Dia_1-Importando_dados/Datasets/dados_emprestimos/emprestimos-20112.csv\"\n",
        "df20112= pd.read_csv(url4)"
      ],
      "metadata": {
        "id": "5A8DLPwSDBWr"
      },
      "execution_count": 177,
      "outputs": []
    },
    {
      "cell_type": "code",
      "source": [
        "url5= \"https://raw.githubusercontent.com/FranciscoFoz/7_Days_of_Code_Alura-Python-Pandas/main/Dia_1-Importando_dados/Datasets/dados_emprestimos/emprestimos-20121.csv\"\n",
        "df20121 = pd.read_csv(url5)"
      ],
      "metadata": {
        "id": "1Ao9OjMuBdeF"
      },
      "execution_count": 178,
      "outputs": []
    },
    {
      "cell_type": "code",
      "source": [
        "url6 = \"https://raw.githubusercontent.com/FranciscoFoz/7_Days_of_Code_Alura-Python-Pandas/main/Dia_1-Importando_dados/Datasets/dados_emprestimos/emprestimos-20122.csv\"\n",
        "df20122 = pd.read_csv(url6)"
      ],
      "metadata": {
        "id": "T2kGzQLzCT2g"
      },
      "execution_count": 179,
      "outputs": []
    },
    {
      "cell_type": "code",
      "source": [
        "url7 = \"https://raw.githubusercontent.com/FranciscoFoz/7_Days_of_Code_Alura-Python-Pandas/main/Dia_1-Importando_dados/Datasets/dados_emprestimos/emprestimos-20131.csv\"\n",
        "df20131 = pd.read_csv(url7)"
      ],
      "metadata": {
        "id": "-APjyTFXCdeA"
      },
      "execution_count": 180,
      "outputs": []
    },
    {
      "cell_type": "code",
      "source": [
        "url8 = \"https://raw.githubusercontent.com/FranciscoFoz/7_Days_of_Code_Alura-Python-Pandas/main/Dia_1-Importando_dados/Datasets/dados_emprestimos/emprestimos-20132.csv\"\n",
        "df20132 =pd.read_csv(url8)"
      ],
      "metadata": {
        "id": "qjSk7YgoCom_"
      },
      "execution_count": 181,
      "outputs": []
    },
    {
      "cell_type": "code",
      "source": [
        "url9 =\"https://raw.githubusercontent.com/FranciscoFoz/7_Days_of_Code_Alura-Python-Pandas/main/Dia_1-Importando_dados/Datasets/dados_emprestimos/emprestimos-20141.csv\"\n",
        "df20141=pd.read_csv(url9)"
      ],
      "metadata": {
        "id": "KDjlBmjZDmx6"
      },
      "execution_count": 182,
      "outputs": []
    },
    {
      "cell_type": "code",
      "source": [
        "url10 = \"https://raw.githubusercontent.com/FranciscoFoz/7_Days_of_Code_Alura-Python-Pandas/main/Dia_1-Importando_dados/Datasets/dados_emprestimos/emprestimos-20142.csv\"\n",
        "df20142=pd.read_csv(url10)"
      ],
      "metadata": {
        "id": "rbAot-PgDwoZ"
      },
      "execution_count": 183,
      "outputs": []
    },
    {
      "cell_type": "code",
      "source": [
        "url11 =\"https://raw.githubusercontent.com/FranciscoFoz/7_Days_of_Code_Alura-Python-Pandas/main/Dia_1-Importando_dados/Datasets/dados_emprestimos/emprestimos-20151.csv\"\n",
        "df20151=pd.read_csv(url11)"
      ],
      "metadata": {
        "id": "IUb39gYOD9gx"
      },
      "execution_count": 184,
      "outputs": []
    },
    {
      "cell_type": "code",
      "source": [
        "url12 =\"https://raw.githubusercontent.com/FranciscoFoz/7_Days_of_Code_Alura-Python-Pandas/main/Dia_1-Importando_dados/Datasets/dados_emprestimos/emprestimos-20152.csv\"\n",
        "df20152=pd.read_csv(url12)"
      ],
      "metadata": {
        "id": "X011Owy3EGup"
      },
      "execution_count": 185,
      "outputs": []
    },
    {
      "cell_type": "code",
      "source": [
        "url13 =\"https://raw.githubusercontent.com/FranciscoFoz/7_Days_of_Code_Alura-Python-Pandas/main/Dia_1-Importando_dados/Datasets/dados_emprestimos/emprestimos-20161.csv\"\n",
        "df20161=pd.read_csv(url13)"
      ],
      "metadata": {
        "id": "rCUWoHTPEQ58"
      },
      "execution_count": 186,
      "outputs": []
    },
    {
      "cell_type": "code",
      "source": [
        "url14 =\"https://raw.githubusercontent.com/FranciscoFoz/7_Days_of_Code_Alura-Python-Pandas/main/Dia_1-Importando_dados/Datasets/dados_emprestimos/emprestimos-20162.csv\"\n",
        "df20162=pd.read_csv(url14)"
      ],
      "metadata": {
        "id": "IXzvnvzbEezU"
      },
      "execution_count": 187,
      "outputs": []
    },
    {
      "cell_type": "code",
      "source": [
        "url15 =\"https://raw.githubusercontent.com/FranciscoFoz/7_Days_of_Code_Alura-Python-Pandas/main/Dia_1-Importando_dados/Datasets/dados_emprestimos/emprestimos-20171.csv\"\n",
        "df20171=pd.read_csv(url15)"
      ],
      "metadata": {
        "id": "8tw_knd0Ekn6"
      },
      "execution_count": 188,
      "outputs": []
    },
    {
      "cell_type": "code",
      "source": [
        "url16 =\"https://raw.githubusercontent.com/FranciscoFoz/7_Days_of_Code_Alura-Python-Pandas/main/Dia_1-Importando_dados/Datasets/dados_emprestimos/emprestimos-20172.csv\"\n",
        "df20172=pd.read_csv(url16)"
      ],
      "metadata": {
        "id": "9WIKf_hAEqfd"
      },
      "execution_count": 189,
      "outputs": []
    },
    {
      "cell_type": "code",
      "source": [
        "url17 =\"https://raw.githubusercontent.com/FranciscoFoz/7_Days_of_Code_Alura-Python-Pandas/main/Dia_1-Importando_dados/Datasets/dados_emprestimos/emprestimos-20181.csv\"\n",
        "df20181=pd.read_csv(url17)"
      ],
      "metadata": {
        "id": "w0rBhXgwEwgD"
      },
      "execution_count": 190,
      "outputs": []
    },
    {
      "cell_type": "code",
      "source": [
        "url18 =\"https://raw.githubusercontent.com/FranciscoFoz/7_Days_of_Code_Alura-Python-Pandas/main/Dia_1-Importando_dados/Datasets/dados_emprestimos/emprestimos-20182.csv\"\n",
        "df20182=pd.read_csv(url18)"
      ],
      "metadata": {
        "id": "1SkaXMl1E13I"
      },
      "execution_count": 191,
      "outputs": []
    },
    {
      "cell_type": "code",
      "source": [
        "url19 =\"https://raw.githubusercontent.com/FranciscoFoz/7_Days_of_Code_Alura-Python-Pandas/main/Dia_1-Importando_dados/Datasets/dados_emprestimos/emprestimos-20191.csv\"\n",
        "df20191=pd.read_csv(url19)"
      ],
      "metadata": {
        "id": "cHUBO_0pE_n0"
      },
      "execution_count": 192,
      "outputs": []
    },
    {
      "cell_type": "code",
      "source": [
        "url20 =\"https://raw.githubusercontent.com/FranciscoFoz/7_Days_of_Code_Alura-Python-Pandas/main/Dia_1-Importando_dados/Datasets/dados_emprestimos/emprestimos-20192.csv\"\n",
        "df20192=pd.read_csv(url20)"
      ],
      "metadata": {
        "id": "_fTzQstPFHYS"
      },
      "execution_count": 193,
      "outputs": []
    },
    {
      "cell_type": "code",
      "source": [
        "url21 =\"https://raw.githubusercontent.com/FranciscoFoz/7_Days_of_Code_Alura-Python-Pandas/main/Dia_1-Importando_dados/Datasets/dados_emprestimos/emprestimos-20201.csv\"\n",
        "df20201=pd.read_csv(url21)"
      ],
      "metadata": {
        "id": "7Do-PDeTFMfM"
      },
      "execution_count": 194,
      "outputs": []
    },
    {
      "cell_type": "code",
      "source": [
        "\n",
        "\n",
        "# URLs dos arquivos CSV\n",
        "urls = [url1,url2,url3,url4,url5,url6,url7,url8,url9,url10,url11,url12,url13,url14,url15,url16,url17,url18,url19,url20,url21]\n",
        "\n",
        "# Lista para armazenar todos os data frames\n",
        "dataframes = []\n",
        "\n",
        "# Ler cada arquivo CSV da URL e armazenar no lista\n",
        "for url in urls:\n",
        "    df = pd.read_csv(url)\n",
        "    dataframes.append(df)\n",
        "\n",
        "# Concatenar todos os data frames em um único data frame\n",
        "combined_df = pd.concat(dataframes, ignore_index=True)\n",
        "\n",
        "\n",
        "# Exibir o data frame combinado\n",
        "print(combined_df)"
      ],
      "metadata": {
        "id": "d5gSNooYP-p5",
        "outputId": "89a1dc60-321b-4555-e2ed-b8c3576783f0",
        "colab": {
          "base_uri": "https://localhost:8080/"
        }
      },
      "execution_count": 199,
      "outputs": [
        {
          "output_type": "stream",
          "name": "stdout",
          "text": [
            "         id_emprestimo codigo_barras                 data_renovacao  \\\n",
            "0               709684       L095049                            NaN   \n",
            "1               709685       L167050                            NaN   \n",
            "2               709686    2006017618  2010/01/26 08:07:01.738000000   \n",
            "3               709687       L184117  2010/01/18 11:07:46.470000000   \n",
            "4               709684       L095049                            NaN   \n",
            "...                ...           ...                            ...   \n",
            "2258013        2989086    2008047044                            NaN   \n",
            "2258014        2989087    2008047047                            NaN   \n",
            "2258015        2989088    2010052905                            NaN   \n",
            "2258016        2989089    2010048023                            NaN   \n",
            "2258017        2989090    2013106838                            NaN   \n",
            "\n",
            "                       data_emprestimo                 data_devolucao  \\\n",
            "0        2010/01/04 07:44:10.721000000  2010/01/05 16:26:12.662000000   \n",
            "1        2010/01/04 07:44:10.750000000  2010/01/12 07:34:13.934000000   \n",
            "2        2010/01/04 08:08:44.081000000  2010/02/25 07:36:25.800000000   \n",
            "3        2010/01/04 08:24:21.284000000  2010/02/03 08:58:45.692000000   \n",
            "4        2010/01/04 07:44:10.721000000  2010/01/05 16:26:12.662000000   \n",
            "...                                ...                            ...   \n",
            "2258013  2020/05/05 19:51:06.059000000  2021/05/13 14:53:31.000000000   \n",
            "2258014  2020/05/05 19:51:06.135000000  2021/05/13 14:53:38.000000000   \n",
            "2258015  2020/05/05 19:51:06.164000000  2021/05/13 15:01:46.000000000   \n",
            "2258016  2020/06/09 11:54:02.669000000  2021/07/21 15:33:55.000000000   \n",
            "2258017  2020/06/09 11:54:02.852000000  2021/07/21 15:33:45.000000000   \n",
            "\n",
            "         matricula_ou_siape             tipo_vinculo_usuario  \n",
            "0              2.008023e+09               ALUNO DE GRADUAÇÃO  \n",
            "1              2.008023e+09               ALUNO DE GRADUAÇÃO  \n",
            "2              2.008112e+09           ALUNO DE PÓS-GRADUAÇÃO  \n",
            "3              2.007211e+08               ALUNO DE GRADUAÇÃO  \n",
            "4              2.008023e+09               ALUNO DE GRADUAÇÃO  \n",
            "...                     ...                              ...  \n",
            "2258013        3.067431e+06  SERVIDOR TÉCNICO-ADMINISTRATIVO  \n",
            "2258014        3.067431e+06  SERVIDOR TÉCNICO-ADMINISTRATIVO  \n",
            "2258015        3.067431e+06  SERVIDOR TÉCNICO-ADMINISTRATIVO  \n",
            "2258016        2.020101e+10           ALUNO DE PÓS-GRADUAÇÃO  \n",
            "2258017        2.020101e+10           ALUNO DE PÓS-GRADUAÇÃO  \n",
            "\n",
            "[2258018 rows x 7 columns]\n"
          ]
        }
      ]
    }
  ]
}